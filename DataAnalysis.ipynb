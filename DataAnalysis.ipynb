{
 "cells": [
  {
   "cell_type": "code",
   "execution_count": 52,
   "metadata": {},
   "outputs": [],
   "source": [
    "import pandas as pd\n",
    "import numpy as np\n",
    "from Bio import SeqIO\n",
    "\n",
    "class_path = \"D:/src/PPI_PBL/data/PP_step1_trn.class\"\n",
    "seq_path = \"D:/src/PPI_PBL/data/PP_step1_trn.fas\"\n",
    "protvec_out = \"D:/src/PPI_PBL/data/pv_out.txt\"\n",
    "# parse information\n",
    "\n",
    "def parse_fasta_to_df(file_path, id_alias, content_alias):\n",
    "    with open(file_path) as fasta_file:\n",
    "        ids = []\n",
    "        contents = []\n",
    "        for record in SeqIO.parse(fasta_file, 'fasta'):\n",
    "            ids.append(record.id)\n",
    "            contents.append(record.seq)\n",
    "        \n",
    "        return pd.DataFrame(data = {id_alias: ids, content_alias: contents})\n",
    "\n",
    "class_df = parse_fasta_to_df(class_path, \"ProtID\", \"Binds\")\n",
    "seq_df = parse_fasta_to_df(seq_path, \"ProtID\", \"Sequence\")"
   ]
  },
  {
   "cell_type": "code",
   "execution_count": 53,
   "metadata": {},
   "outputs": [
    {
     "name": "stdout",
     "output_type": "stream",
     "text": [
      "Classes ratio is 1.2145522388059702\n"
     ]
    }
   ],
   "source": [
    "# BioPython strings are comparable with usual ones\n",
    "class_df['Binds'] = class_df['Binds'].map({\"Bind\" : 1, \"Non_Bind\" : 0})\n",
    "counts = class_df['Binds'].value_counts()\n",
    "ratio = counts[0]/counts[1]\n",
    "print(\"Bind/non-bind ratio is\", str(ratio))"
   ]
  },
  {
   "cell_type": "code",
   "execution_count": 60,
   "metadata": {},
   "outputs": [],
   "source": [
    "#Sample balanced test & train\n",
    "from sklearn.model_selection import StratifiedKFold\n",
    "N_SPLITS_CV = 5\n",
    "\n",
    "skf = StratifieldKFold(n_splits=N_SPLITS_CV)\n",
    "folds = skf.split(class_df.iloc[:, 'ProtID'].values, class_df.iloc[:, 'Binds'].values)"
   ]
  },
  {
   "cell_type": "code",
   "execution_count": null,
   "metadata": {},
   "outputs": [],
   "source": [
    "# Evaluate the CV\n",
    "scores = cross_val_score(sv, )"
   ]
  },
  {
   "cell_type": "code",
   "execution_count": 61,
   "metadata": {},
   "outputs": [
    {
     "data": {
      "text/plain": [
       "0       Q3E7C1\n",
       "1       P41391\n",
       "2       Q5SJH5\n",
       "3       P31109\n",
       "4       P00698\n",
       "5       Q02223\n",
       "6       P14739\n",
       "7       Q7M418\n",
       "8       Q6CTI2\n",
       "9       Q7XZK2\n",
       "10      Q7BQ98\n",
       "11      Q8T3S4\n",
       "12      Q9UKK6\n",
       "13      P05112\n",
       "14      A5IHF0\n",
       "15      Q4UNB3\n",
       "16      O87897\n",
       "17      P27999\n",
       "18      P30657\n",
       "19      P9WHN5\n",
       "20      P49028\n",
       "21      P42939\n",
       "22      Q52440\n",
       "23      Q9HZJ8\n",
       "24      P13183\n",
       "25      P34162\n",
       "26      Q00805\n",
       "27      Q9UKT5\n",
       "28      P03502\n",
       "29      P83326\n",
       "         ...  \n",
       "1032    Q99278\n",
       "1033    P19399\n",
       "1034    P07349\n",
       "1035    P60568\n",
       "1036    P05945\n",
       "1037    P06702\n",
       "1038    Q8KRK5\n",
       "1039    A0S864\n",
       "1040    P60849\n",
       "1041    P59636\n",
       "1042    Q59472\n",
       "1043    P40337\n",
       "1044    P55854\n",
       "1045    P00639\n",
       "1046    O14836\n",
       "1047    A9W9U6\n",
       "1048    P38291\n",
       "1049    Q8DIN9\n",
       "1050    B8LIX8\n",
       "1051    P13338\n",
       "1052    Q8VPC2\n",
       "1053    P04387\n",
       "1054    P61024\n",
       "1055    P0A444\n",
       "1056    P14124\n",
       "1057    Q16938\n",
       "1058    Q5SHP7\n",
       "1167    P24593\n",
       "1168    Q9BS40\n",
       "1169    P04234\n",
       "Name: ProtID, Length: 536, dtype: object"
      ]
     },
     "execution_count": 61,
     "metadata": {},
     "output_type": "execute_result"
    }
   ],
   "source": [
    "#Convert strings to their ProtVec representation\n",
    "import biovec\n",
    "\n",
    "pv = biovec.ProtVec(seq_path, out = protvec_out)"
   ]
  },
  {
   "cell_type": "code",
   "execution_count": 68,
   "metadata": {},
   "outputs": [
    {
     "data": {
      "text/plain": [
       "107"
      ]
     },
     "execution_count": 68,
     "metadata": {},
     "output_type": "execute_result"
    }
   ],
   "source": [
    "# Run the model\n"
   ]
  }
 ],
 "metadata": {
  "kernelspec": {
   "display_name": "Python 3",
   "language": "python",
   "name": "python3"
  },
  "language_info": {
   "codemirror_mode": {
    "name": "ipython",
    "version": 3
   },
   "file_extension": ".py",
   "mimetype": "text/x-python",
   "name": "python",
   "nbconvert_exporter": "python",
   "pygments_lexer": "ipython3",
   "version": "3.6.3"
  }
 },
 "nbformat": 4,
 "nbformat_minor": 2
}
